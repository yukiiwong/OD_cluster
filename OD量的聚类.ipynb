{
 "cells": [
  {
   "cell_type": "markdown",
   "metadata": {},
   "source": [
    "# 非完备数据下的聚类"
   ]
  },
  {
   "cell_type": "markdown",
   "metadata": {},
   "source": [
    "## 提供的数据\n",
    "- OD的相关信息（位置，数量等）\n",
    "- 用地属性（可以判断出行的目的）\n",
    "- GIS信息"
   ]
  },
  {
   "cell_type": "markdown",
   "metadata": {},
   "source": [
    "## 聚类的思路\n",
    "1. 首先将OD信息与路网信息结合，获取所有OD的路径信息。\n",
    "2. 将OD根据时间和轨迹信息聚类\n",
    "3. 根据用地属性可进一步划分聚类结果"
   ]
  },
  {
   "cell_type": "markdown",
   "metadata": {},
   "source": [
    "# 代码流程"
   ]
  },
  {
   "cell_type": "markdown",
   "metadata": {},
   "source": [
    "## 1.读取数据"
   ]
  },
  {
   "cell_type": "code",
   "execution_count": 1,
   "metadata": {},
   "outputs": [],
   "source": [
    "import pandas as pd\n",
    "import numpy as np\n",
    "\n",
    "data_ori = pd.read_csv('/Users/mac/Documents/seu_mac/project/华为RL/非完备聚类/出行与OD量.csv')"
   ]
  },
  {
   "cell_type": "code",
   "execution_count": 2,
   "metadata": {},
   "outputs": [],
   "source": [
    "#将路段数据转换为数值的函数\n",
    "def new_route(route):\n",
    "    if type(route) == str:\n",
    "        d = 0\n",
    "        for i in route:\n",
    "            d += ord(i)\n",
    "        return d\n",
    "    else:\n",
    "        return route"
   ]
  },
  {
   "cell_type": "code",
   "execution_count": 3,
   "metadata": {},
   "outputs": [],
   "source": [
    "route_ori = []\n",
    "for i in range(len(data_ori['route'])):\n",
    "    route_ori.append(new_route(data_ori['route'][i]))"
   ]
  },
  {
   "cell_type": "code",
   "execution_count": 4,
   "metadata": {},
   "outputs": [
    {
     "data": {
      "text/plain": [
       "[3831, 3831, 4904, 2814, 3825, 3825, 3313, 4711, 3825]"
      ]
     },
     "execution_count": 4,
     "metadata": {},
     "output_type": "execute_result"
    }
   ],
   "source": [
    "route_ori[1:10]"
   ]
  },
  {
   "cell_type": "code",
   "execution_count": 5,
   "metadata": {},
   "outputs": [],
   "source": [
    "route_ori = np.array(route_ori).reshape(-1, 1)"
   ]
  },
  {
   "cell_type": "code",
   "execution_count": 16,
   "metadata": {},
   "outputs": [],
   "source": [
    "from sklearn.cluster import DBSCAN\n",
    "db = DBSCAN(eps=1, min_samples=70).fit(route_ori)"
   ]
  },
  {
   "cell_type": "code",
   "execution_count": 17,
   "metadata": {},
   "outputs": [
    {
     "name": "stdout",
     "output_type": "stream",
     "text": [
      "Clustered 7835 points to 31 clusters\n"
     ]
    }
   ],
   "source": [
    "#类别标签\n",
    "cluster_labels = db.labels_\n",
    "# get the number of clusters (ignore noisy samples which are given the label -1)\n",
    "#去除噪声，类别为-1\n",
    "num_clusters = len(set(cluster_labels) - set([-1]))\n",
    "pd_obj2 = pd.DataFrame(cluster_labels)\n",
    "print ('Clustered ' + str(len(data_ori)) + ' points to ' + str(num_clusters) + ' clusters')"
   ]
  },
  {
   "cell_type": "code",
   "execution_count": 18,
   "metadata": {},
   "outputs": [],
   "source": [
    "cluster_frame = pd.concat([data_ori,pd.DataFrame(cluster_labels)],axis=1)\n",
    "# turn the clusters in to a pandas series\n",
    "clusters = pd.Series([data_ori.iloc[cluster_labels == n] for n in range(num_clusters)])\n",
    "cluster_frame.to_csv('cluster.csv')"
   ]
  },
  {
   "cell_type": "code",
   "execution_count": 19,
   "metadata": {},
   "outputs": [
    {
     "data": {
      "text/plain": [
       "array([[ 3831],\n",
       "       [ 3831],\n",
       "       [ 3831],\n",
       "       ...,\n",
       "       [ 3913],\n",
       "       [14406],\n",
       "       [ 6099]])"
      ]
     },
     "execution_count": 19,
     "metadata": {},
     "output_type": "execute_result"
    }
   ],
   "source": [
    "route_ori"
   ]
  },
  {
   "cell_type": "code",
   "execution_count": null,
   "metadata": {},
   "outputs": [],
   "source": []
  }
 ],
 "metadata": {
  "kernelspec": {
   "display_name": "Python 3",
   "language": "python",
   "name": "python3"
  },
  "language_info": {
   "codemirror_mode": {
    "name": "ipython",
    "version": 3
   },
   "file_extension": ".py",
   "mimetype": "text/x-python",
   "name": "python",
   "nbconvert_exporter": "python",
   "pygments_lexer": "ipython3",
   "version": "3.7.3"
  }
 },
 "nbformat": 4,
 "nbformat_minor": 2
}
